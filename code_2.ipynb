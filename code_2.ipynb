{
 "cells": [
  {
   "cell_type": "markdown",
   "metadata": {},
   "source": [
    "¡Hola!\n",
    "\n",
    "Mi nombre es Tonatiuh Cruz. Me complace revisar tu proyecto hoy.\n",
    "\n",
    "Al identificar cualquier error inicialmente, simplemente los destacaré. Te animo a localizar y abordar los problemas de forma independiente como parte de tu preparación para un rol como data-scientist. En un entorno profesional, tu líder de equipo seguiría un enfoque similar. Si encuentras la tarea desafiante, proporcionaré una pista más específica en la próxima iteración.\n",
    "\n",
    "Encontrarás mis comentarios a continuación - **por favor no los muevas, modifiques o elimines**.\n",
    "\n",
    "Puedes encontrar mis comentarios en cajas verdes, amarillas o rojas como esta:\n",
    "\n",
    "<div class=\"alert alert-block alert-success\">\n",
    "<b>Comentario del revisor</b> <a class=\"tocSkip\"></a>\n",
    "\n",
    "Éxito. Todo está hecho correctamente.\n",
    "</div>\n",
    "\n",
    "<div class=\"alert alert-block alert-warning\">\n",
    "<b>Comentario del revisor</b> <a class=\"tocSkip\"></a>\n",
    "\n",
    "Observaciones. Algunas recomendaciones.\n",
    "</div>\n",
    "\n",
    "<div class=\"alert alert-block alert-danger\">\n",
    "<b>Comentario del revisor</b> <a class=\"tocSkip\"></a>\n",
    "\n",
    "Necesita corrección. El bloque requiere algunas correcciones. El trabajo no puede ser aceptado con comentarios en rojo.\n",
    "</div>\n",
    "\n",
    "Puedes responderme utilizando esto:\n",
    "\n",
    "<div class=\"alert alert-block alert-info\">\n",
    "<b>Respuesta del estudiante.</b> <a class=\"tocSkip\"></a>\n",
    "</div>"
   ]
  },
  {
   "cell_type": "markdown",
   "metadata": {},
   "source": [
    "SPRINT 10. APRENDIZAJE AUTOMATICO EN NEGOCIOS. \n",
    "---\n",
    "\n",
    "Encontrar los mejores lugares donde abrir 200 pozos nuevos de petróleo.\n",
    "Al explorar la región, se lleva a cabo un estudio de 500 puntos con la selección de los mejores 200 puntos para el cálculo del beneficio.\n",
    "El presupuesto para el desarrollo de 200 pozos petroleros es de 100 millones de dólares.\n",
    "Un barril de materias primas genera 4.5 USD de ingresos. El ingreso de una unidad de producto es de 4500 dólares (el volumen de reservas está expresado en miles de barriles).\n",
    "Después de la evaluación de riesgo, mantendremos solo las regiones con riesgo de pérdidas inferior al 2.5%. Hay que seleccionar la región con el beneficio promedio más alto."
   ]
  },
  {
   "cell_type": "code",
   "execution_count": 1,
   "metadata": {},
   "outputs": [],
   "source": [
    "import pandas as pd\n",
    "import numpy as np\n",
    "from sklearn.model_selection import train_test_split\n",
    "from sklearn.linear_model import LinearRegression\n",
    "from sklearn.metrics import mean_squared_error\n",
    "from sklearn.preprocessing import StandardScaler\n",
    "from sklearn.metrics import r2_score\n",
    "from sklearn.metrics import mean_absolute_error\n",
    "from numpy.random import RandomState\n",
    "from scipy import stats as st\n",
    "from matplotlib import pyplot as plt"
   ]
  },
  {
   "cell_type": "markdown",
   "metadata": {},
   "source": [
    "LOCALIDAD #0\n",
    "---"
   ]
  },
  {
   "cell_type": "code",
   "execution_count": 2,
   "metadata": {},
   "outputs": [
    {
     "name": "stdout",
     "output_type": "stream",
     "text": [
      "<class 'pandas.core.frame.DataFrame'>\n",
      "RangeIndex: 100000 entries, 0 to 99999\n",
      "Data columns (total 5 columns):\n",
      " #   Column   Non-Null Count   Dtype  \n",
      "---  ------   --------------   -----  \n",
      " 0   id       100000 non-null  object \n",
      " 1   f0       100000 non-null  float64\n",
      " 2   f1       100000 non-null  float64\n",
      " 3   f2       100000 non-null  float64\n",
      " 4   product  100000 non-null  float64\n",
      "dtypes: float64(4), object(1)\n",
      "memory usage: 3.8+ MB\n"
     ]
    },
    {
     "data": {
      "text/html": [
       "<div>\n",
       "<style scoped>\n",
       "    .dataframe tbody tr th:only-of-type {\n",
       "        vertical-align: middle;\n",
       "    }\n",
       "\n",
       "    .dataframe tbody tr th {\n",
       "        vertical-align: top;\n",
       "    }\n",
       "\n",
       "    .dataframe thead th {\n",
       "        text-align: right;\n",
       "    }\n",
       "</style>\n",
       "<table border=\"1\" class=\"dataframe\">\n",
       "  <thead>\n",
       "    <tr style=\"text-align: right;\">\n",
       "      <th></th>\n",
       "      <th>id</th>\n",
       "      <th>f0</th>\n",
       "      <th>f1</th>\n",
       "      <th>f2</th>\n",
       "      <th>product</th>\n",
       "    </tr>\n",
       "  </thead>\n",
       "  <tbody>\n",
       "    <tr>\n",
       "      <th>0</th>\n",
       "      <td>txEyH</td>\n",
       "      <td>0.705745</td>\n",
       "      <td>-0.497823</td>\n",
       "      <td>1.221170</td>\n",
       "      <td>105.280062</td>\n",
       "    </tr>\n",
       "    <tr>\n",
       "      <th>1</th>\n",
       "      <td>2acmU</td>\n",
       "      <td>1.334711</td>\n",
       "      <td>-0.340164</td>\n",
       "      <td>4.365080</td>\n",
       "      <td>73.037750</td>\n",
       "    </tr>\n",
       "    <tr>\n",
       "      <th>2</th>\n",
       "      <td>409Wp</td>\n",
       "      <td>1.022732</td>\n",
       "      <td>0.151990</td>\n",
       "      <td>1.419926</td>\n",
       "      <td>85.265647</td>\n",
       "    </tr>\n",
       "    <tr>\n",
       "      <th>3</th>\n",
       "      <td>iJLyR</td>\n",
       "      <td>-0.032172</td>\n",
       "      <td>0.139033</td>\n",
       "      <td>2.978566</td>\n",
       "      <td>168.620776</td>\n",
       "    </tr>\n",
       "    <tr>\n",
       "      <th>4</th>\n",
       "      <td>Xdl7t</td>\n",
       "      <td>1.988431</td>\n",
       "      <td>0.155413</td>\n",
       "      <td>4.751769</td>\n",
       "      <td>154.036647</td>\n",
       "    </tr>\n",
       "    <tr>\n",
       "      <th>5</th>\n",
       "      <td>wX4Hy</td>\n",
       "      <td>0.969570</td>\n",
       "      <td>0.489775</td>\n",
       "      <td>-0.735383</td>\n",
       "      <td>64.741541</td>\n",
       "    </tr>\n",
       "    <tr>\n",
       "      <th>6</th>\n",
       "      <td>tL6pL</td>\n",
       "      <td>0.645075</td>\n",
       "      <td>0.530656</td>\n",
       "      <td>1.780266</td>\n",
       "      <td>49.055285</td>\n",
       "    </tr>\n",
       "    <tr>\n",
       "      <th>7</th>\n",
       "      <td>BYPU6</td>\n",
       "      <td>-0.400648</td>\n",
       "      <td>0.808337</td>\n",
       "      <td>-5.624670</td>\n",
       "      <td>72.943292</td>\n",
       "    </tr>\n",
       "    <tr>\n",
       "      <th>8</th>\n",
       "      <td>j9Oui</td>\n",
       "      <td>0.643105</td>\n",
       "      <td>-0.551583</td>\n",
       "      <td>2.372141</td>\n",
       "      <td>113.356160</td>\n",
       "    </tr>\n",
       "    <tr>\n",
       "      <th>9</th>\n",
       "      <td>OLuZU</td>\n",
       "      <td>2.173381</td>\n",
       "      <td>0.563698</td>\n",
       "      <td>9.441852</td>\n",
       "      <td>127.910945</td>\n",
       "    </tr>\n",
       "  </tbody>\n",
       "</table>\n",
       "</div>"
      ],
      "text/plain": [
       "      id        f0        f1        f2     product\n",
       "0  txEyH  0.705745 -0.497823  1.221170  105.280062\n",
       "1  2acmU  1.334711 -0.340164  4.365080   73.037750\n",
       "2  409Wp  1.022732  0.151990  1.419926   85.265647\n",
       "3  iJLyR -0.032172  0.139033  2.978566  168.620776\n",
       "4  Xdl7t  1.988431  0.155413  4.751769  154.036647\n",
       "5  wX4Hy  0.969570  0.489775 -0.735383   64.741541\n",
       "6  tL6pL  0.645075  0.530656  1.780266   49.055285\n",
       "7  BYPU6 -0.400648  0.808337 -5.624670   72.943292\n",
       "8  j9Oui  0.643105 -0.551583  2.372141  113.356160\n",
       "9  OLuZU  2.173381  0.563698  9.441852  127.910945"
      ]
     },
     "metadata": {},
     "output_type": "display_data"
    }
   ],
   "source": [
    "geo_0 = pd.read_csv('dataset/geo_data_0.csv')\n",
    "geo_0.info()\n",
    "display(geo_0.head(10))"
   ]
  },
  {
   "cell_type": "code",
   "execution_count": 3,
   "metadata": {},
   "outputs": [
    {
     "name": "stdout",
     "output_type": "stream",
     "text": [
      "Valores nulos ->\n",
      " id         0\n",
      "f0         0\n",
      "f1         0\n",
      "f2         0\n",
      "product    0\n",
      "dtype: int64\n",
      "\n",
      "Valores duplicados ->  0\n"
     ]
    }
   ],
   "source": [
    "#REVISION DE VALORES NULOS Y DUPLICADOS.\n",
    "print('Valores nulos ->\\n',geo_0.isna().sum())\n",
    "print('\\nValores duplicados -> ',geo_0.duplicated().sum())"
   ]
  },
  {
   "cell_type": "code",
   "execution_count": 4,
   "metadata": {},
   "outputs": [
    {
     "name": "stdout",
     "output_type": "stream",
     "text": [
      "- Mayor cantidad de litros de un pozo en la primera localidad:  185.3643474222929\n",
      "         id        f0        f1       f2     product\n",
      "8826  rjMou  1.797736  0.098212  6.14826  185.364347\n",
      "\n",
      "- Menor cantidad de litros de un pozo en la primera localidad:  0.0\n",
      "          id        f0        f1        f2  product\n",
      "57263  zCM5W -0.702064  0.375992  0.236572      0.0\n",
      "\n",
      "* Mediana de los litros en la primera localidad:  91.84997204396296\n",
      "* Media de los litros en la primera localidad:  92.50000000000001\n",
      "\n",
      "> Tenemos 45094 pozos con mas de 100 unidades.\n",
      "> Tenemos 6426 pozos entre 90 y 100 unidades \n",
      "> Tenemos 3914 pozos con menos de 20 unidades.\n"
     ]
    }
   ],
   "source": [
    "print('- Mayor cantidad de litros de un pozo en la primera localidad: ',geo_0['product'].max())\n",
    "print(geo_0[geo_0['product']==geo_0['product'].max()])\n",
    "print('\\n- Menor cantidad de litros de un pozo en la primera localidad: ',geo_0['product'].min())\n",
    "print(geo_0[geo_0['product']==geo_0['product'].min()])\n",
    "\n",
    "print('\\n* Mediana de los litros en la primera localidad: ',geo_0['product'].median())\n",
    "print('* Media de los litros en la primera localidad: ',geo_0['product'].mean())\n",
    "\n",
    "values_sorted = geo_0['product'].sort_values(ascending= False).head(20)\n",
    "print('\\n> Tenemos {} pozos con mas de 100 unidades.'.format(geo_0['product'][geo_0['product']>100].count()))\n",
    "print('> Tenemos {} pozos entre 90 y 100 unidades '.format(geo_0['product'][(geo_0['product']<100) & (geo_0['product']>89)].count()))\n",
    "print('> Tenemos {} pozos con menos de 20 unidades.'.format(geo_0['product'][geo_0['product']<20].count()))\n",
    "#print(values_sorted)"
   ]
  },
  {
   "cell_type": "markdown",
   "metadata": {},
   "source": [
    "<div class=\"alert alert-block alert-success\">\n",
    "<b>Comentario del revisor</b> <a class=\"tocSkip\"></a>\n",
    "\n",
    "Buena exploración inicial de los datos. En este punto ya tienes una idea general de cómo están distribuidos los datos de las diferentes regiones.\n",
    "</div>"
   ]
  },
  {
   "cell_type": "code",
   "execution_count": 5,
   "metadata": {},
   "outputs": [
    {
     "name": "stdout",
     "output_type": "stream",
     "text": [
      "(75000, 3) (25000, 3)\n",
      "(75000,) (25000,)\n"
     ]
    },
    {
     "data": {
      "text/html": [
       "<div>\n",
       "<style scoped>\n",
       "    .dataframe tbody tr th:only-of-type {\n",
       "        vertical-align: middle;\n",
       "    }\n",
       "\n",
       "    .dataframe tbody tr th {\n",
       "        vertical-align: top;\n",
       "    }\n",
       "\n",
       "    .dataframe thead th {\n",
       "        text-align: right;\n",
       "    }\n",
       "</style>\n",
       "<table border=\"1\" class=\"dataframe\">\n",
       "  <thead>\n",
       "    <tr style=\"text-align: right;\">\n",
       "      <th></th>\n",
       "      <th>f0</th>\n",
       "      <th>f1</th>\n",
       "      <th>f2</th>\n",
       "    </tr>\n",
       "  </thead>\n",
       "  <tbody>\n",
       "    <tr>\n",
       "      <th>91512</th>\n",
       "      <td>1.047314</td>\n",
       "      <td>-0.588520</td>\n",
       "      <td>7.192957</td>\n",
       "    </tr>\n",
       "    <tr>\n",
       "      <th>10859</th>\n",
       "      <td>1.921060</td>\n",
       "      <td>-0.086840</td>\n",
       "      <td>3.336267</td>\n",
       "    </tr>\n",
       "    <tr>\n",
       "      <th>6246</th>\n",
       "      <td>0.360579</td>\n",
       "      <td>1.024094</td>\n",
       "      <td>1.989392</td>\n",
       "    </tr>\n",
       "    <tr>\n",
       "      <th>39091</th>\n",
       "      <td>-0.375138</td>\n",
       "      <td>0.964283</td>\n",
       "      <td>4.179138</td>\n",
       "    </tr>\n",
       "    <tr>\n",
       "      <th>91459</th>\n",
       "      <td>-0.878584</td>\n",
       "      <td>0.809862</td>\n",
       "      <td>5.932856</td>\n",
       "    </tr>\n",
       "  </tbody>\n",
       "</table>\n",
       "</div>"
      ],
      "text/plain": [
       "             f0        f1        f2\n",
       "91512  1.047314 -0.588520  7.192957\n",
       "10859  1.921060 -0.086840  3.336267\n",
       "6246   0.360579  1.024094  1.989392\n",
       "39091 -0.375138  0.964283  4.179138\n",
       "91459 -0.878584  0.809862  5.932856"
      ]
     },
     "metadata": {},
     "output_type": "display_data"
    },
    {
     "data": {
      "text/html": [
       "<div>\n",
       "<style scoped>\n",
       "    .dataframe tbody tr th:only-of-type {\n",
       "        vertical-align: middle;\n",
       "    }\n",
       "\n",
       "    .dataframe tbody tr th {\n",
       "        vertical-align: top;\n",
       "    }\n",
       "\n",
       "    .dataframe thead th {\n",
       "        text-align: right;\n",
       "    }\n",
       "</style>\n",
       "<table border=\"1\" class=\"dataframe\">\n",
       "  <thead>\n",
       "    <tr style=\"text-align: right;\">\n",
       "      <th></th>\n",
       "      <th>f0</th>\n",
       "      <th>f1</th>\n",
       "      <th>f2</th>\n",
       "    </tr>\n",
       "  </thead>\n",
       "  <tbody>\n",
       "    <tr>\n",
       "      <th>47590</th>\n",
       "      <td>1.514790</td>\n",
       "      <td>-0.188060</td>\n",
       "      <td>3.665070</td>\n",
       "    </tr>\n",
       "    <tr>\n",
       "      <th>39469</th>\n",
       "      <td>1.639174</td>\n",
       "      <td>-0.518934</td>\n",
       "      <td>4.792929</td>\n",
       "    </tr>\n",
       "    <tr>\n",
       "      <th>88291</th>\n",
       "      <td>0.061831</td>\n",
       "      <td>0.498935</td>\n",
       "      <td>2.018771</td>\n",
       "    </tr>\n",
       "    <tr>\n",
       "      <th>46565</th>\n",
       "      <td>0.548405</td>\n",
       "      <td>-0.327277</td>\n",
       "      <td>1.783483</td>\n",
       "    </tr>\n",
       "    <tr>\n",
       "      <th>55316</th>\n",
       "      <td>-0.072231</td>\n",
       "      <td>0.923705</td>\n",
       "      <td>2.914132</td>\n",
       "    </tr>\n",
       "  </tbody>\n",
       "</table>\n",
       "</div>"
      ],
      "text/plain": [
       "             f0        f1        f2\n",
       "47590  1.514790 -0.188060  3.665070\n",
       "39469  1.639174 -0.518934  4.792929\n",
       "88291  0.061831  0.498935  2.018771\n",
       "46565  0.548405 -0.327277  1.783483\n",
       "55316 -0.072231  0.923705  2.914132"
      ]
     },
     "metadata": {},
     "output_type": "display_data"
    }
   ],
   "source": [
    "#Division de datasets en conjuntos \n",
    "features_0 = geo_0.drop(['id','product'],axis = 1)\n",
    "target_0 = geo_0['product']\n",
    "\n",
    "features_train_0 , features_valid_0 , target_train_0, target_valid_0 = train_test_split(features_0, target_0, test_size= 0.25, random_state= 54321)\n",
    "\n",
    "print(features_train_0.shape, features_valid_0.shape)\n",
    "print(target_train_0.shape, target_valid_0.shape)\n",
    "\n",
    "display(features_train_0.head())\n",
    "display(features_valid_0.head())"
   ]
  },
  {
   "cell_type": "code",
   "execution_count": 6,
   "metadata": {},
   "outputs": [
    {
     "data": {
      "text/html": [
       "<div>\n",
       "<style scoped>\n",
       "    .dataframe tbody tr th:only-of-type {\n",
       "        vertical-align: middle;\n",
       "    }\n",
       "\n",
       "    .dataframe tbody tr th {\n",
       "        vertical-align: top;\n",
       "    }\n",
       "\n",
       "    .dataframe thead th {\n",
       "        text-align: right;\n",
       "    }\n",
       "</style>\n",
       "<table border=\"1\" class=\"dataframe\">\n",
       "  <thead>\n",
       "    <tr style=\"text-align: right;\">\n",
       "      <th></th>\n",
       "      <th>f0</th>\n",
       "      <th>f1</th>\n",
       "      <th>f2</th>\n",
       "    </tr>\n",
       "  </thead>\n",
       "  <tbody>\n",
       "    <tr>\n",
       "      <th>91512</th>\n",
       "      <td>0.623271</td>\n",
       "      <td>-1.659687</td>\n",
       "      <td>1.441806</td>\n",
       "    </tr>\n",
       "    <tr>\n",
       "      <th>10859</th>\n",
       "      <td>1.626421</td>\n",
       "      <td>-0.666008</td>\n",
       "      <td>0.254240</td>\n",
       "    </tr>\n",
       "    <tr>\n",
       "      <th>6246</th>\n",
       "      <td>-0.165170</td>\n",
       "      <td>1.534423</td>\n",
       "      <td>-0.160495</td>\n",
       "    </tr>\n",
       "    <tr>\n",
       "      <th>39091</th>\n",
       "      <td>-1.009849</td>\n",
       "      <td>1.415956</td>\n",
       "      <td>0.513780</td>\n",
       "    </tr>\n",
       "    <tr>\n",
       "      <th>91459</th>\n",
       "      <td>-1.587856</td>\n",
       "      <td>1.110092</td>\n",
       "      <td>1.053791</td>\n",
       "    </tr>\n",
       "  </tbody>\n",
       "</table>\n",
       "</div>"
      ],
      "text/plain": [
       "             f0        f1        f2\n",
       "91512  0.623271 -1.659687  1.441806\n",
       "10859  1.626421 -0.666008  0.254240\n",
       "6246  -0.165170  1.534423 -0.160495\n",
       "39091 -1.009849  1.415956  0.513780\n",
       "91459 -1.587856  1.110092  1.053791"
      ]
     },
     "metadata": {},
     "output_type": "display_data"
    },
    {
     "data": {
      "text/html": [
       "<div>\n",
       "<style scoped>\n",
       "    .dataframe tbody tr th:only-of-type {\n",
       "        vertical-align: middle;\n",
       "    }\n",
       "\n",
       "    .dataframe tbody tr th {\n",
       "        vertical-align: top;\n",
       "    }\n",
       "\n",
       "    .dataframe thead th {\n",
       "        text-align: right;\n",
       "    }\n",
       "</style>\n",
       "<table border=\"1\" class=\"dataframe\">\n",
       "  <thead>\n",
       "    <tr style=\"text-align: right;\">\n",
       "      <th></th>\n",
       "      <th>f0</th>\n",
       "      <th>f1</th>\n",
       "      <th>f2</th>\n",
       "    </tr>\n",
       "  </thead>\n",
       "  <tbody>\n",
       "    <tr>\n",
       "      <th>47590</th>\n",
       "      <td>1.159982</td>\n",
       "      <td>-0.866496</td>\n",
       "      <td>0.355486</td>\n",
       "    </tr>\n",
       "    <tr>\n",
       "      <th>39469</th>\n",
       "      <td>1.302788</td>\n",
       "      <td>-1.521858</td>\n",
       "      <td>0.702781</td>\n",
       "    </tr>\n",
       "    <tr>\n",
       "      <th>88291</th>\n",
       "      <td>-0.508163</td>\n",
       "      <td>0.494238</td>\n",
       "      <td>-0.151448</td>\n",
       "    </tr>\n",
       "    <tr>\n",
       "      <th>46565</th>\n",
       "      <td>0.050473</td>\n",
       "      <td>-1.142243</td>\n",
       "      <td>-0.223899</td>\n",
       "    </tr>\n",
       "    <tr>\n",
       "      <th>55316</th>\n",
       "      <td>-0.662080</td>\n",
       "      <td>1.335581</td>\n",
       "      <td>0.124254</td>\n",
       "    </tr>\n",
       "  </tbody>\n",
       "</table>\n",
       "</div>"
      ],
      "text/plain": [
       "             f0        f1        f2\n",
       "47590  1.159982 -0.866496  0.355486\n",
       "39469  1.302788 -1.521858  0.702781\n",
       "88291 -0.508163  0.494238 -0.151448\n",
       "46565  0.050473 -1.142243 -0.223899\n",
       "55316 -0.662080  1.335581  0.124254"
      ]
     },
     "metadata": {},
     "output_type": "display_data"
    }
   ],
   "source": [
    "#ESCALAR LOS DATOS.\n",
    "numeric = ['f0', 'f1', 'f2']\n",
    "scaler_0 = StandardScaler()\n",
    "scaler_0.fit(features_train_0[numeric])\n",
    "features_train_0[numeric] = scaler_0.transform(features_train_0[numeric])\n",
    "features_valid_0[numeric] = scaler_0.transform(features_valid_0[numeric])\n",
    "\n",
    "display(features_train_0.head())\n",
    "\n",
    "display(features_valid_0.head())"
   ]
  },
  {
   "cell_type": "code",
   "execution_count": 7,
   "metadata": {},
   "outputs": [
    {
     "name": "stdout",
     "output_type": "stream",
     "text": [
      "Promedio del conjunto de entrenamiento de las unidades de reservas en los pozos de petróleo --> 92.472 unidades\n",
      "Promedio del conjunto de validacion de las unidades de reservas en los pozos de petróleo --> 92.584 unidades\n"
     ]
    }
   ],
   "source": [
    "print('Promedio del conjunto de entrenamiento de las unidades de reservas en los pozos de petróleo --> {:.3f} unidades'.format(target_train_0.mean()))\n",
    "print('Promedio del conjunto de validacion de las unidades de reservas en los pozos de petróleo --> {:.3f} unidades'.format(target_valid_0.mean()))"
   ]
  },
  {
   "cell_type": "markdown",
   "metadata": {},
   "source": [
    "<div class=\"alert alert-block alert-success\">\n",
    "<b>Comentario del revisor</b> <a class=\"tocSkip\"></a>\n",
    "\n",
    "Buen trabajo segmentando y escalando la información. El escalado te puede ser muy útil para mejorar el rendimiento del modelo al asegurar que todas las características tienen el mismo rango. \n",
    "</div>\n",
    "\n"
   ]
  },
  {
   "cell_type": "markdown",
   "metadata": {},
   "source": [
    "**MODELO REGRESION LINEAL L#0**\n",
    "\n",
    "ERROR CUADRATICO MEDIO\n",
    "\n",
    "RAIZ DEL ERROR CUADRATICO MEDIO"
   ]
  },
  {
   "cell_type": "code",
   "execution_count": 8,
   "metadata": {},
   "outputs": [
    {
     "name": "stdout",
     "output_type": "stream",
     "text": [
      "MSE = 1420.039\n",
      "RECM = 37.683\n"
     ]
    }
   ],
   "source": [
    "#MODELO LINEAR REGRESSION DE LA PRIMERA LOCALIDAD.\n",
    "model_0 = LinearRegression()\n",
    "model_0.fit(features_train_0,target_train_0)\n",
    "\n",
    "predictions_valid_0 = model_0.predict(features_valid_0)\n",
    "mse_0 = mean_squared_error(target_valid_0 , predictions_valid_0)\n",
    "recm_0 = mse_0**0.5\n",
    "print('MSE = {:.3f}'.format(mse_0))\n",
    "print('RECM = {:.3f}'.format(recm_0))"
   ]
  },
  {
   "cell_type": "markdown",
   "metadata": {},
   "source": [
    "Tenemos un RECM de 37.68 litros de petroleo mal predichos, si lo comparamos con el promedio total de barriles -> 92.47\n",
    "\n",
    "Hagamos una prueba de cordura para saber si es un RECM aceptable. "
   ]
  },
  {
   "cell_type": "markdown",
   "metadata": {},
   "source": [
    "**PRUEBA DE CORDURA (MSE Y RECM)**\n",
    "\n",
    "Veamos el MSE y el RECM obtenido por un modelo con un valor constante. "
   ]
  },
  {
   "cell_type": "code",
   "execution_count": 9,
   "metadata": {},
   "outputs": [
    {
     "name": "stdout",
     "output_type": "stream",
     "text": [
      "MSE = 1955.434\n",
      "RECM = 44.220\n"
     ]
    }
   ],
   "source": [
    "#PRUEBA DE CORDURA.\n",
    "predictions_valid_constant_0 = pd.Series(target_train_0.mean(), index= target_valid_0.index)\n",
    "mse_const0 = mean_squared_error(target_valid_0, predictions_valid_constant_0)\n",
    "recm_const0 = mse_const0 ** 0.5\n",
    "\n",
    "print('MSE = {:.3f}'.format(mse_const0))\n",
    "print('RECM = {:.3f}'.format(recm_const0))"
   ]
  },
  {
   "cell_type": "markdown",
   "metadata": {},
   "source": [
    "La diferencia de RECM es de 7 litros, esto podría considerarse un buena prediccion.\n",
    "Nuestro modelo predice mejor que un modelo constante, por lo que es mejor que solo utilizar el promedio del total de litros."
   ]
  },
  {
   "cell_type": "markdown",
   "metadata": {},
   "source": [
    "**COEFICIENTE DE DETERMINACION**\n",
    "\n",
    "Esta metrica divide el ECM del modelo entre el ECM media y luego se resta el valor obtenido de uno. \n",
    "\n",
    "Revisemos si la metrica aumenta, la calidad del modelo también mejora. \n"
   ]
  },
  {
   "cell_type": "code",
   "execution_count": 10,
   "metadata": {},
   "outputs": [
    {
     "name": "stdout",
     "output_type": "stream",
     "text": [
      "R2 = 0.274\n"
     ]
    }
   ],
   "source": [
    "R2_0 = r2_score(target_valid_0, predictions_valid_0)\n",
    "print('R2 = {:.3f}'.format(R2_0))\n"
   ]
  },
  {
   "cell_type": "markdown",
   "metadata": {},
   "source": [
    "Tenemos un 0.27 de 1, no estamos ni en la mitad, pero es algo. "
   ]
  },
  {
   "cell_type": "markdown",
   "metadata": {},
   "source": [
    "**ERROR ABSOLUTO MEDIO.**\n",
    "\n",
    "Con esta metrica podemos revisar la precision de nuestro modelo. <br> Midiendo el promedio de las diferencias absolutas entre las predicciones del modelo y los valores reales. \n"
   ]
  },
  {
   "cell_type": "code",
   "execution_count": 11,
   "metadata": {},
   "outputs": [
    {
     "name": "stdout",
     "output_type": "stream",
     "text": [
      "Nuestro Error promedio absoluto de la Localidad 0 --> 31.044\n"
     ]
    }
   ],
   "source": [
    "print('Nuestro Error promedio absoluto de la Localidad 0 --> {:.3f}'.format(mean_absolute_error(target_valid_0 , predictions_valid_0)))"
   ]
  },
  {
   "cell_type": "markdown",
   "metadata": {},
   "source": [
    "Tenemos un error medio absoluto de 31 litros, revisemos con la mediana de los litros si es mejor que un modelo constante. \n"
   ]
  },
  {
   "cell_type": "code",
   "execution_count": 12,
   "metadata": {},
   "outputs": [
    {
     "name": "stdout",
     "output_type": "stream",
     "text": [
      "37.62201179904536\n"
     ]
    }
   ],
   "source": [
    "#PREUBA DE CORDURA PARA EL MAE.\n",
    "predictions_valid_constmedian_0 = pd.Series(target_train_0.median(), index= target_valid_0.index)\n",
    "print(mean_absolute_error(target_valid_0 , predictions_valid_constmedian_0))"
   ]
  },
  {
   "cell_type": "markdown",
   "metadata": {},
   "source": [
    "La diferencia en el MAE es de 6 litros, esto podría considerarse un buena prediccion.\n",
    "\n",
    "Nuestro modelo predice mejor que un modelo constante, por lo que es mejor que solo utilizar la mediana del total de litros de petroleo."
   ]
  },
  {
   "cell_type": "markdown",
   "metadata": {},
   "source": [
    "Tenemos un un Error Absoluto Medio bajo, de solo 31 unidades con diferencia a la prueba de cordura con 37.6 unidades. <br>\n",
    "Nuestro modelo logra hacer mejores predicciones que un modelo constante utilizando solo la mediana. <br>\n"
   ]
  },
  {
   "cell_type": "markdown",
   "metadata": {},
   "source": [
    "LOCALIDAD #1\n",
    "---"
   ]
  },
  {
   "cell_type": "code",
   "execution_count": 13,
   "metadata": {},
   "outputs": [
    {
     "name": "stdout",
     "output_type": "stream",
     "text": [
      "<class 'pandas.core.frame.DataFrame'>\n",
      "RangeIndex: 100000 entries, 0 to 99999\n",
      "Data columns (total 5 columns):\n",
      " #   Column   Non-Null Count   Dtype  \n",
      "---  ------   --------------   -----  \n",
      " 0   id       100000 non-null  object \n",
      " 1   f0       100000 non-null  float64\n",
      " 2   f1       100000 non-null  float64\n",
      " 3   f2       100000 non-null  float64\n",
      " 4   product  100000 non-null  float64\n",
      "dtypes: float64(4), object(1)\n",
      "memory usage: 3.8+ MB\n"
     ]
    }
   ],
   "source": [
    "geo_1 = pd.read_csv('dataset/geo_data_1.csv')\n",
    "geo_1.info()"
   ]
  },
  {
   "cell_type": "code",
   "execution_count": 14,
   "metadata": {},
   "outputs": [
    {
     "name": "stdout",
     "output_type": "stream",
     "text": [
      "+ Mayor cantidad de unidades de un pozo en la segunda localidad: 137.945\n",
      "\n",
      "- Menor cantidad de unidades de un pozo en la segunda localidad:  0.0\n",
      "\n",
      "* Mediana de las unidades en la segunda localidad: 57.086\n",
      "* Media de las uniadades en la segunda localidad: 68.825\n",
      "\n",
      "> Tenemos 33041 pozos con mas de 100 unidades.\n",
      "> Tenemos 0 pozos entre 90 y 100 unidades \n",
      "> Tenemos 16572 pozos con menos de 20 unidades.\n"
     ]
    }
   ],
   "source": [
    "print('+ Mayor cantidad de unidades de un pozo en la segunda localidad: {:.3f}'.format(geo_1['product'].max()))\n",
    "\n",
    "print('\\n- Menor cantidad de unidades de un pozo en la segunda localidad: ',geo_1['product'].min())\n",
    "\n",
    "print('\\n* Mediana de las unidades en la segunda localidad: {:.3f}'.format(geo_1['product'].median()))\n",
    "print('* Media de las uniadades en la segunda localidad: {:.3f}'.format(geo_1['product'].mean()))\n",
    "\n",
    "values_sorted = geo_1['product'].sort_values(ascending= False).head(20)\n",
    "print('\\n> Tenemos {} pozos con mas de 100 unidades.'.format(geo_1['product'][geo_1['product']>100].count()))\n",
    "print('> Tenemos {} pozos entre 90 y 100 unidades '.format(geo_1['product'][(geo_1['product']<100) & (geo_1['product']>89)].count()))\n",
    "print('> Tenemos {} pozos con menos de 20 unidades.'.format(geo_1['product'][geo_1['product']<20].count()))"
   ]
  },
  {
   "cell_type": "code",
   "execution_count": 15,
   "metadata": {},
   "outputs": [
    {
     "name": "stdout",
     "output_type": "stream",
     "text": [
      "(75000, 3) (25000, 3)\n",
      "(75000,) (25000,)\n"
     ]
    },
    {
     "data": {
      "text/html": [
       "<div>\n",
       "<style scoped>\n",
       "    .dataframe tbody tr th:only-of-type {\n",
       "        vertical-align: middle;\n",
       "    }\n",
       "\n",
       "    .dataframe tbody tr th {\n",
       "        vertical-align: top;\n",
       "    }\n",
       "\n",
       "    .dataframe thead th {\n",
       "        text-align: right;\n",
       "    }\n",
       "</style>\n",
       "<table border=\"1\" class=\"dataframe\">\n",
       "  <thead>\n",
       "    <tr style=\"text-align: right;\">\n",
       "      <th></th>\n",
       "      <th>f0</th>\n",
       "      <th>f1</th>\n",
       "      <th>f2</th>\n",
       "    </tr>\n",
       "  </thead>\n",
       "  <tbody>\n",
       "    <tr>\n",
       "      <th>91512</th>\n",
       "      <td>-5.259719</td>\n",
       "      <td>-7.915228</td>\n",
       "      <td>0.005090</td>\n",
       "    </tr>\n",
       "    <tr>\n",
       "      <th>10859</th>\n",
       "      <td>8.956305</td>\n",
       "      <td>-3.585838</td>\n",
       "      <td>2.997366</td>\n",
       "    </tr>\n",
       "    <tr>\n",
       "      <th>6246</th>\n",
       "      <td>-4.692128</td>\n",
       "      <td>2.830963</td>\n",
       "      <td>1.000511</td>\n",
       "    </tr>\n",
       "    <tr>\n",
       "      <th>39091</th>\n",
       "      <td>-11.257950</td>\n",
       "      <td>-4.265647</td>\n",
       "      <td>3.999363</td>\n",
       "    </tr>\n",
       "    <tr>\n",
       "      <th>91459</th>\n",
       "      <td>-8.430500</td>\n",
       "      <td>-5.197694</td>\n",
       "      <td>5.001518</td>\n",
       "    </tr>\n",
       "  </tbody>\n",
       "</table>\n",
       "</div>"
      ],
      "text/plain": [
       "              f0        f1        f2\n",
       "91512  -5.259719 -7.915228  0.005090\n",
       "10859   8.956305 -3.585838  2.997366\n",
       "6246   -4.692128  2.830963  1.000511\n",
       "39091 -11.257950 -4.265647  3.999363\n",
       "91459  -8.430500 -5.197694  5.001518"
      ]
     },
     "metadata": {},
     "output_type": "display_data"
    },
    {
     "data": {
      "text/html": [
       "<div>\n",
       "<style scoped>\n",
       "    .dataframe tbody tr th:only-of-type {\n",
       "        vertical-align: middle;\n",
       "    }\n",
       "\n",
       "    .dataframe tbody tr th {\n",
       "        vertical-align: top;\n",
       "    }\n",
       "\n",
       "    .dataframe thead th {\n",
       "        text-align: right;\n",
       "    }\n",
       "</style>\n",
       "<table border=\"1\" class=\"dataframe\">\n",
       "  <thead>\n",
       "    <tr style=\"text-align: right;\">\n",
       "      <th></th>\n",
       "      <th>f0</th>\n",
       "      <th>f1</th>\n",
       "      <th>f2</th>\n",
       "    </tr>\n",
       "  </thead>\n",
       "  <tbody>\n",
       "    <tr>\n",
       "      <th>47590</th>\n",
       "      <td>12.167120</td>\n",
       "      <td>8.448401</td>\n",
       "      <td>1.000711</td>\n",
       "    </tr>\n",
       "    <tr>\n",
       "      <th>39469</th>\n",
       "      <td>-4.615780</td>\n",
       "      <td>-6.076121</td>\n",
       "      <td>-0.000970</td>\n",
       "    </tr>\n",
       "    <tr>\n",
       "      <th>88291</th>\n",
       "      <td>18.498442</td>\n",
       "      <td>-1.967833</td>\n",
       "      <td>3.991104</td>\n",
       "    </tr>\n",
       "    <tr>\n",
       "      <th>46565</th>\n",
       "      <td>-6.280526</td>\n",
       "      <td>-2.518864</td>\n",
       "      <td>1.997804</td>\n",
       "    </tr>\n",
       "    <tr>\n",
       "      <th>55316</th>\n",
       "      <td>-7.329280</td>\n",
       "      <td>5.661661</td>\n",
       "      <td>4.000831</td>\n",
       "    </tr>\n",
       "  </tbody>\n",
       "</table>\n",
       "</div>"
      ],
      "text/plain": [
       "              f0        f1        f2\n",
       "47590  12.167120  8.448401  1.000711\n",
       "39469  -4.615780 -6.076121 -0.000970\n",
       "88291  18.498442 -1.967833  3.991104\n",
       "46565  -6.280526 -2.518864  1.997804\n",
       "55316  -7.329280  5.661661  4.000831"
      ]
     },
     "metadata": {},
     "output_type": "display_data"
    }
   ],
   "source": [
    "features_1 = geo_1.drop(['product','id'], axis = 1)\n",
    "target_1 = geo_1['product']\n",
    "\n",
    "features_train_1, features_valid_1, target_train_1, target_valid_1 = train_test_split(features_1, target_1, test_size= 0.25, random_state= 54321)\n",
    "\n",
    "print(features_train_1.shape, features_valid_1.shape)\n",
    "print(target_train_1.shape, target_valid_1.shape)\n",
    "\n",
    "display(features_train_1.head())\n",
    "display(features_valid_1.head())"
   ]
  },
  {
   "cell_type": "code",
   "execution_count": 16,
   "metadata": {},
   "outputs": [
    {
     "data": {
      "text/html": [
       "<div>\n",
       "<style scoped>\n",
       "    .dataframe tbody tr th:only-of-type {\n",
       "        vertical-align: middle;\n",
       "    }\n",
       "\n",
       "    .dataframe tbody tr th {\n",
       "        vertical-align: top;\n",
       "    }\n",
       "\n",
       "    .dataframe thead th {\n",
       "        text-align: right;\n",
       "    }\n",
       "</style>\n",
       "<table border=\"1\" class=\"dataframe\">\n",
       "  <thead>\n",
       "    <tr style=\"text-align: right;\">\n",
       "      <th></th>\n",
       "      <th>f0</th>\n",
       "      <th>f1</th>\n",
       "      <th>f2</th>\n",
       "    </tr>\n",
       "  </thead>\n",
       "  <tbody>\n",
       "    <tr>\n",
       "      <th>91512</th>\n",
       "      <td>-0.714581</td>\n",
       "      <td>-0.606875</td>\n",
       "      <td>-1.463609</td>\n",
       "    </tr>\n",
       "    <tr>\n",
       "      <th>10859</th>\n",
       "      <td>0.871883</td>\n",
       "      <td>0.237221</td>\n",
       "      <td>0.292307</td>\n",
       "    </tr>\n",
       "    <tr>\n",
       "      <th>6246</th>\n",
       "      <td>-0.651239</td>\n",
       "      <td>1.488297</td>\n",
       "      <td>-0.879480</td>\n",
       "    </tr>\n",
       "    <tr>\n",
       "      <th>39091</th>\n",
       "      <td>-1.383964</td>\n",
       "      <td>0.104680</td>\n",
       "      <td>0.880296</td>\n",
       "    </tr>\n",
       "    <tr>\n",
       "      <th>91459</th>\n",
       "      <td>-1.068430</td>\n",
       "      <td>-0.077040</td>\n",
       "      <td>1.468377</td>\n",
       "    </tr>\n",
       "  </tbody>\n",
       "</table>\n",
       "</div>"
      ],
      "text/plain": [
       "             f0        f1        f2\n",
       "91512 -0.714581 -0.606875 -1.463609\n",
       "10859  0.871883  0.237221  0.292307\n",
       "6246  -0.651239  1.488297 -0.879480\n",
       "39091 -1.383964  0.104680  0.880296\n",
       "91459 -1.068430 -0.077040  1.468377"
      ]
     },
     "metadata": {},
     "output_type": "display_data"
    },
    {
     "data": {
      "text/html": [
       "<div>\n",
       "<style scoped>\n",
       "    .dataframe tbody tr th:only-of-type {\n",
       "        vertical-align: middle;\n",
       "    }\n",
       "\n",
       "    .dataframe tbody tr th {\n",
       "        vertical-align: top;\n",
       "    }\n",
       "\n",
       "    .dataframe thead th {\n",
       "        text-align: right;\n",
       "    }\n",
       "</style>\n",
       "<table border=\"1\" class=\"dataframe\">\n",
       "  <thead>\n",
       "    <tr style=\"text-align: right;\">\n",
       "      <th></th>\n",
       "      <th>f0</th>\n",
       "      <th>f1</th>\n",
       "      <th>f2</th>\n",
       "    </tr>\n",
       "  </thead>\n",
       "  <tbody>\n",
       "    <tr>\n",
       "      <th>47590</th>\n",
       "      <td>1.230200</td>\n",
       "      <td>2.583522</td>\n",
       "      <td>-0.879362</td>\n",
       "    </tr>\n",
       "    <tr>\n",
       "      <th>39469</th>\n",
       "      <td>-0.642719</td>\n",
       "      <td>-0.248306</td>\n",
       "      <td>-1.467165</td>\n",
       "    </tr>\n",
       "    <tr>\n",
       "      <th>88291</th>\n",
       "      <td>1.936755</td>\n",
       "      <td>0.552682</td>\n",
       "      <td>0.875449</td>\n",
       "    </tr>\n",
       "    <tr>\n",
       "      <th>46565</th>\n",
       "      <td>-0.828500</td>\n",
       "      <td>0.445248</td>\n",
       "      <td>-0.294252</td>\n",
       "    </tr>\n",
       "    <tr>\n",
       "      <th>55316</th>\n",
       "      <td>-0.945537</td>\n",
       "      <td>2.040195</td>\n",
       "      <td>0.881157</td>\n",
       "    </tr>\n",
       "  </tbody>\n",
       "</table>\n",
       "</div>"
      ],
      "text/plain": [
       "             f0        f1        f2\n",
       "47590  1.230200  2.583522 -0.879362\n",
       "39469 -0.642719 -0.248306 -1.467165\n",
       "88291  1.936755  0.552682  0.875449\n",
       "46565 -0.828500  0.445248 -0.294252\n",
       "55316 -0.945537  2.040195  0.881157"
      ]
     },
     "metadata": {},
     "output_type": "display_data"
    }
   ],
   "source": [
    "numeric = ['f0', 'f1', 'f2']\n",
    "scaler_1 = StandardScaler()\n",
    "scaler_1.fit(features_train_1[numeric])\n",
    "features_train_1[numeric] = scaler_1.transform(features_train_1[numeric])\n",
    "features_valid_1[numeric] = scaler_1.transform(features_valid_1[numeric])\n",
    "\n",
    "display(features_train_1.head())\n",
    "\n",
    "display(features_valid_1.head())"
   ]
  },
  {
   "cell_type": "code",
   "execution_count": 17,
   "metadata": {},
   "outputs": [
    {
     "name": "stdout",
     "output_type": "stream",
     "text": [
      "MSE = 0.796\n",
      "RECM = 0.892\n"
     ]
    }
   ],
   "source": [
    "#MODELO LINEAR REGRESSION DE LA PRIMERA LOCALIDAD.\n",
    "model_1 = LinearRegression()\n",
    "model_1.fit(features_train_1 , target_train_1)\n",
    "predictions_valid_1 = model_1.predict(features_valid_1)\n",
    "\n",
    "mse_1 = mean_squared_error(target_valid_1, predictions_valid_1)\n",
    "recm_1 = mse_1 ** 0.5\n",
    "print('MSE = {:.3f}'.format(mse_1))\n",
    "print('RECM = {:.3f}'.format(recm_1))"
   ]
  },
  {
   "cell_type": "code",
   "execution_count": 38,
   "metadata": {},
   "outputs": [
    {
     "name": "stdout",
     "output_type": "stream",
     "text": [
      "Prueba de cordura. MSE = 2107.859\n",
      "Prueba de cordura. RECM = 45.911\n"
     ]
    }
   ],
   "source": [
    "#PRUEBA DE CORDURA\n",
    "predictions_valid_constant_1 = pd.Series(target_train_1.mean(), index= target_valid_1.index)\n",
    "mse_const1 = mean_squared_error(target_valid_1 , predictions_valid_constant_1)\n",
    "recm_const1 = mse_const1 ** 0.5\n",
    "\n",
    "print('Prueba de cordura. MSE = {:.3f}'.format( mse_const1))\n",
    "print('Prueba de cordura. RECM = {:.3f}'.format(recm_const1))"
   ]
  },
  {
   "cell_type": "markdown",
   "metadata": {},
   "source": [
    "**COEFICIENTE DE DETERMINACION**\n",
    "\n",
    "Revisemos si la metrica R2 aumenta, de este modo sabremos si la calidad del modelo es alta. "
   ]
  },
  {
   "cell_type": "code",
   "execution_count": 19,
   "metadata": {},
   "outputs": [
    {
     "name": "stdout",
     "output_type": "stream",
     "text": [
      "R2 = 0.9996\n"
     ]
    }
   ],
   "source": [
    "R2_1 = r2_score(target_valid_1, predictions_valid_1)\n",
    "print('R2 = {:.4f}'.format(R2_1))"
   ]
  },
  {
   "cell_type": "markdown",
   "metadata": {},
   "source": [
    "**ERROR ABSOLUTO MEDIO**<br>\n",
    "Revisemos la precision de nuestro modelo para la Localidad #1. <br>\n",
    "Midiendo el promedio de las diferencias absolutas entre las predicciones del modelo y los valores reales. "
   ]
  },
  {
   "cell_type": "code",
   "execution_count": 20,
   "metadata": {},
   "outputs": [
    {
     "name": "stdout",
     "output_type": "stream",
     "text": [
      "MEAN ABSOLUTE ERROR -> 0.7184\n"
     ]
    }
   ],
   "source": [
    "print('MEAN ABSOLUTE ERROR -> {:.4f}'.format(mean_absolute_error(target_valid_1 , predictions_valid_1)))"
   ]
  },
  {
   "cell_type": "code",
   "execution_count": 21,
   "metadata": {},
   "outputs": [
    {
     "name": "stdout",
     "output_type": "stream",
     "text": [
      "40.15683151534529\n"
     ]
    }
   ],
   "source": [
    "#PREUBA DE CORDURA PARA EL MAE.\n",
    "predictions_valid_constmedian_1 = pd.Series(target_train_1.median(), index= target_valid_1.index)\n",
    "print(mean_absolute_error(target_valid_1 , predictions_valid_constmedian_1))"
   ]
  },
  {
   "cell_type": "markdown",
   "metadata": {},
   "source": [
    "En la Localidad #1 tenemos una prediccion muy buena de parte del modelo de Regresion Lineal. \n",
    "En el valor  R2 tenemos casi un 1 y como error absoluto medio tenemos 0.71 unidades, esto es casi 0 de error en las predicciones con respecto a los valores reales de los pozos.<br> Si utilizaramos la media como valor constante en las predicciones tendriamos un valor de error absoluto medio de 40 unidades, esto son muchas unidades en comparacion con la mediana total de los pozos (57.086 unidades) que utizamos para entrenar el modelo. "
   ]
  },
  {
   "cell_type": "markdown",
   "metadata": {},
   "source": [
    "LOCALIDAD #2\n",
    "---\n"
   ]
  },
  {
   "cell_type": "code",
   "execution_count": 22,
   "metadata": {},
   "outputs": [
    {
     "name": "stdout",
     "output_type": "stream",
     "text": [
      "<class 'pandas.core.frame.DataFrame'>\n",
      "RangeIndex: 100000 entries, 0 to 99999\n",
      "Data columns (total 5 columns):\n",
      " #   Column   Non-Null Count   Dtype  \n",
      "---  ------   --------------   -----  \n",
      " 0   id       100000 non-null  object \n",
      " 1   f0       100000 non-null  float64\n",
      " 2   f1       100000 non-null  float64\n",
      " 3   f2       100000 non-null  float64\n",
      " 4   product  100000 non-null  float64\n",
      "dtypes: float64(4), object(1)\n",
      "memory usage: 3.8+ MB\n"
     ]
    }
   ],
   "source": [
    "geo_2 = pd.read_csv('dataset/geo_data_2.csv')\n",
    "geo_2.info()"
   ]
  },
  {
   "cell_type": "code",
   "execution_count": 23,
   "metadata": {},
   "outputs": [
    {
     "name": "stdout",
     "output_type": "stream",
     "text": [
      "+ Mayor cantidad de unidades de un pozo en la tercera localidad: 190.030\n",
      "\n",
      "- Menor cantidad de unidades de un pozo en la tercera localidad: 0.000\n",
      "\n",
      "* Mediana de los unidades en la tercera localidad: 94.926\n",
      "* Media de los unidades en la tercera localidad: 95.000\n",
      "\n",
      "> Tenemos 47077 pozos con mas de 100 unidades.\n",
      "> Tenemos 6623 pozos entre 90 y 100 unidades \n",
      "> Tenemos 3920 pozos con menos de 20 unidades.\n"
     ]
    }
   ],
   "source": [
    "print('+ Mayor cantidad de unidades de un pozo en la tercera localidad: {:.3f}'.format(geo_2['product'].max()))\n",
    "print('\\n- Menor cantidad de unidades de un pozo en la tercera localidad: {:.3f}'.format(geo_2['product'].min()))\n",
    "\n",
    "print('\\n* Mediana de los unidades en la tercera localidad: {:.3f}'.format(geo_2['product'].median()))\n",
    "print('* Media de los unidades en la tercera localidad: {:.3f}'.format(geo_2['product'].mean()))\n",
    "\n",
    "values_sorted = geo_2['product'].sort_values(ascending= False).head(20)\n",
    "print('\\n> Tenemos {} pozos con mas de 100 unidades.'.format(geo_2['product'][geo_2['product']>100].count()))\n",
    "print('> Tenemos {} pozos entre 90 y 100 unidades '.format(geo_2['product'][(geo_2['product']<100) & (geo_2['product']>89)].count()))\n",
    "print('> Tenemos {} pozos con menos de 20 unidades.'.format(geo_2['product'][geo_2['product']<20].count()))"
   ]
  },
  {
   "cell_type": "code",
   "execution_count": 24,
   "metadata": {},
   "outputs": [
    {
     "name": "stdout",
     "output_type": "stream",
     "text": [
      "(75000, 3) (25000, 3)\n",
      "(75000,) (25000,)\n"
     ]
    },
    {
     "data": {
      "text/html": [
       "<div>\n",
       "<style scoped>\n",
       "    .dataframe tbody tr th:only-of-type {\n",
       "        vertical-align: middle;\n",
       "    }\n",
       "\n",
       "    .dataframe tbody tr th {\n",
       "        vertical-align: top;\n",
       "    }\n",
       "\n",
       "    .dataframe thead th {\n",
       "        text-align: right;\n",
       "    }\n",
       "</style>\n",
       "<table border=\"1\" class=\"dataframe\">\n",
       "  <thead>\n",
       "    <tr style=\"text-align: right;\">\n",
       "      <th></th>\n",
       "      <th>f0</th>\n",
       "      <th>f1</th>\n",
       "      <th>f2</th>\n",
       "    </tr>\n",
       "  </thead>\n",
       "  <tbody>\n",
       "    <tr>\n",
       "      <th>91512</th>\n",
       "      <td>2.757381</td>\n",
       "      <td>1.614820</td>\n",
       "      <td>7.521468</td>\n",
       "    </tr>\n",
       "    <tr>\n",
       "      <th>10859</th>\n",
       "      <td>1.412403</td>\n",
       "      <td>-0.703433</td>\n",
       "      <td>2.794668</td>\n",
       "    </tr>\n",
       "    <tr>\n",
       "      <th>6246</th>\n",
       "      <td>-2.046829</td>\n",
       "      <td>0.681573</td>\n",
       "      <td>3.269953</td>\n",
       "    </tr>\n",
       "    <tr>\n",
       "      <th>39091</th>\n",
       "      <td>-1.413053</td>\n",
       "      <td>0.920717</td>\n",
       "      <td>1.549329</td>\n",
       "    </tr>\n",
       "    <tr>\n",
       "      <th>91459</th>\n",
       "      <td>0.045615</td>\n",
       "      <td>-0.758936</td>\n",
       "      <td>5.377495</td>\n",
       "    </tr>\n",
       "  </tbody>\n",
       "</table>\n",
       "</div>"
      ],
      "text/plain": [
       "             f0        f1        f2\n",
       "91512  2.757381  1.614820  7.521468\n",
       "10859  1.412403 -0.703433  2.794668\n",
       "6246  -2.046829  0.681573  3.269953\n",
       "39091 -1.413053  0.920717  1.549329\n",
       "91459  0.045615 -0.758936  5.377495"
      ]
     },
     "metadata": {},
     "output_type": "display_data"
    },
    {
     "data": {
      "text/html": [
       "<div>\n",
       "<style scoped>\n",
       "    .dataframe tbody tr th:only-of-type {\n",
       "        vertical-align: middle;\n",
       "    }\n",
       "\n",
       "    .dataframe tbody tr th {\n",
       "        vertical-align: top;\n",
       "    }\n",
       "\n",
       "    .dataframe thead th {\n",
       "        text-align: right;\n",
       "    }\n",
       "</style>\n",
       "<table border=\"1\" class=\"dataframe\">\n",
       "  <thead>\n",
       "    <tr style=\"text-align: right;\">\n",
       "      <th></th>\n",
       "      <th>f0</th>\n",
       "      <th>f1</th>\n",
       "      <th>f2</th>\n",
       "    </tr>\n",
       "  </thead>\n",
       "  <tbody>\n",
       "    <tr>\n",
       "      <th>47590</th>\n",
       "      <td>2.441476</td>\n",
       "      <td>0.005062</td>\n",
       "      <td>1.740010</td>\n",
       "    </tr>\n",
       "    <tr>\n",
       "      <th>39469</th>\n",
       "      <td>2.067213</td>\n",
       "      <td>0.319923</td>\n",
       "      <td>3.771649</td>\n",
       "    </tr>\n",
       "    <tr>\n",
       "      <th>88291</th>\n",
       "      <td>-0.550469</td>\n",
       "      <td>0.148153</td>\n",
       "      <td>-3.234745</td>\n",
       "    </tr>\n",
       "    <tr>\n",
       "      <th>46565</th>\n",
       "      <td>0.503663</td>\n",
       "      <td>-2.445467</td>\n",
       "      <td>4.963118</td>\n",
       "    </tr>\n",
       "    <tr>\n",
       "      <th>55316</th>\n",
       "      <td>-0.158206</td>\n",
       "      <td>-0.036463</td>\n",
       "      <td>-2.219084</td>\n",
       "    </tr>\n",
       "  </tbody>\n",
       "</table>\n",
       "</div>"
      ],
      "text/plain": [
       "             f0        f1        f2\n",
       "47590  2.441476  0.005062  1.740010\n",
       "39469  2.067213  0.319923  3.771649\n",
       "88291 -0.550469  0.148153 -3.234745\n",
       "46565  0.503663 -2.445467  4.963118\n",
       "55316 -0.158206 -0.036463 -2.219084"
      ]
     },
     "metadata": {},
     "output_type": "display_data"
    }
   ],
   "source": [
    "features_2 = geo_2.drop(['product','id'], axis = 1)\n",
    "target_2 = geo_2['product']\n",
    "\n",
    "features_train_2, features_valid_2, target_train_2, target_valid_2 = train_test_split(features_2, target_2, test_size= 0.25, random_state= 54321)\n",
    "\n",
    "print(features_train_2.shape, features_valid_2.shape)\n",
    "print(target_train_2.shape, target_valid_2.shape)\n",
    "\n",
    "display(features_train_2.head())\n",
    "display(features_valid_2.head())"
   ]
  },
  {
   "cell_type": "code",
   "execution_count": 25,
   "metadata": {},
   "outputs": [
    {
     "name": "stdout",
     "output_type": "stream",
     "text": [
      "MSE = 1612.224\n",
      "RECM = 40.153\n"
     ]
    }
   ],
   "source": [
    "#MODELO LINEAR REGRESSION DE LA SEGUNDA LOCALIDAD.\n",
    "model_2 = LinearRegression()\n",
    "model_2.fit(features_train_2 , target_train_2)\n",
    "predictions_valid_2 = model_2.predict(features_valid_2)\n",
    "\n",
    "mse_2 = mean_squared_error(target_valid_2, predictions_valid_2)\n",
    "recm_2 = mse_2 ** 0.5\n",
    "print('MSE = {:.3f}'.format(mse_2))\n",
    "print('RECM = {:.3f}'.format(recm_2))"
   ]
  },
  {
   "cell_type": "code",
   "execution_count": 26,
   "metadata": {},
   "outputs": [
    {
     "name": "stdout",
     "output_type": "stream",
     "text": [
      "MSE = 2021.040\n",
      "RECM = 44.956\n"
     ]
    }
   ],
   "source": [
    "#PRUEBA DE CORDURA\n",
    "predictions_valid_constant_2 = pd.Series(target_train_2.mean(), index= target_valid_2.index)\n",
    "mse_const2 = mean_squared_error(target_valid_2 , predictions_valid_constant_2)\n",
    "recm_const2 = mse_const2 ** 0.5\n",
    "\n",
    "print('MSE = {:.3f}'.format( mse_const2))\n",
    "print('RECM = {:.3f}'.format(recm_const2))"
   ]
  },
  {
   "cell_type": "markdown",
   "metadata": {},
   "source": [
    "**COEFICIENTE DE DETERMINACION**\n",
    "\n",
    "Revisemos si la metrica R2 es alta, de este modo sabremos si tenemos una buena calidad en nuestro modelo para la Localidad #2. "
   ]
  },
  {
   "cell_type": "code",
   "execution_count": 27,
   "metadata": {},
   "outputs": [
    {
     "name": "stdout",
     "output_type": "stream",
     "text": [
      "R2 = 0.2023\n"
     ]
    }
   ],
   "source": [
    "R2_2 = r2_score(target_valid_2, predictions_valid_2)\n",
    "print('R2 = {:.4f}'.format(R2_2))"
   ]
  },
  {
   "cell_type": "markdown",
   "metadata": {},
   "source": [
    "**ERROR ABSOLUTO MEDIO**\n",
    "\n",
    "Revisemos la precision de nuestro modelo para la Localidad #2. <br>\n",
    "Midiendo el promedio de las diferencias absolutas entre las predicciones del modelo y los valores reales. "
   ]
  },
  {
   "cell_type": "code",
   "execution_count": 28,
   "metadata": {},
   "outputs": [
    {
     "name": "stdout",
     "output_type": "stream",
     "text": [
      "MEAN ABSOLUTE ERROR -> 32.891 unidades\n"
     ]
    }
   ],
   "source": [
    "print('MEAN ABSOLUTE ERROR -> {:.3f} unidades'.format(mean_absolute_error(target_valid_2 , predictions_valid_2)))"
   ]
  },
  {
   "cell_type": "code",
   "execution_count": 29,
   "metadata": {},
   "outputs": [
    {
     "name": "stdout",
     "output_type": "stream",
     "text": [
      "MEAN ABSOLUTE ERROR En la prueba de cordura -> 38.000 unidades\n"
     ]
    }
   ],
   "source": [
    "#PREUBA DE CORDURA PARA EL MAE.\n",
    "predictions_valid_constmedian_2 = pd.Series(target_train_2.median(), index= target_valid_2.index)\n",
    "print('MEAN ABSOLUTE ERROR En la prueba de cordura -> {:.3f} unidades'.format(mean_absolute_error(target_valid_2 , predictions_valid_constmedian_2)))"
   ]
  },
  {
   "cell_type": "markdown",
   "metadata": {},
   "source": [
    "Nuestro modelo parece tener buena prediccion, tenemos 38 unidades de error abosluto medio utilizando la mediana como valor constante. <br>\n",
    "Con el modelo de Regresion Lineal tenemos casi 33 unidades de producto de error absoluto medio."
   ]
  },
  {
   "cell_type": "markdown",
   "metadata": {},
   "source": [
    "**Conclusion**\n",
    "\n",
    "En este punto podemos comparar la calidad de los modelos para cada localidad:\n",
    "\n",
    "* Loc.0 <br> R2 = 0.274 <br> MEAN ABSOLUTE ERROR --> 31.044 unidades\n",
    "\n",
    "* Loc. 1 <br> R2 = 0.9996 <br> MEAN ABSOLUTE ERROR -> 0.7184 unidades\n",
    "\n",
    "* Loc. 2 <br> R2 = 0.2023 <br> MEAN ABSOLUTE ERROR -> 32.891 unidades\n",
    "\n",
    "En la localidad #1 podemos ver que tenemos una calidad en las predicciones de casi 100% con un 99.96%. <br>\n",
    "Si vemos el error absoluto medio estamos muy cera del valor original, con una diferencia de solo 0.7 unidades entre los valores reales y los predichos. \n",
    "\n",
    "En las locaciones #0 y #2 temos un R2 parecido, el modelo generó unas predicciones en estas dos localidades con unas calidad de 0.2, es decir de 31 y 32 unidades de diferencia con el valor de unidades correcto. \n",
    "\n"
   ]
  },
  {
   "cell_type": "markdown",
   "metadata": {},
   "source": [
    "<div class=\"alert alert-block alert-danger\">\n",
    "<b>Comentario del revisor</b> <a class=\"tocSkip\"></a>\n",
    "\n",
    "Implementaste el modelo de regresión logística de forma excelente para los 3 conjuntos de datos! En este punto ya puedes obervar cuál es el modelo con el mayor $R^2$ y menor RMSE. Con esto resultados cuál región tiene mejores resultados?\n",
    "</div>"
   ]
  },
  {
   "cell_type": "markdown",
   "metadata": {},
   "source": [
    "CALCULO DE BENEFICIOS TOTALES.\n",
    "---\n",
    "\n",
    "Revisaremos la ganancia total de los pozos de cada localidad para calcular el beneficio que se obtendrá de ellos. \n",
    "Primero tomaremos 500 pozos y seleccionamos los 200 mejores para cada localidad, despues calcularemos el beneficio total. \n",
    "\n",
    "Como segunda comprobacion para hacer un mejor analisis haremos lo mismo, tomaremos 500 pozos, seleccionaremos los 200 mejores, pero esta vez lo haremos 1000 veces. \n",
    "Calcularemos el beneficio promedio de estas muestras. \n"
   ]
  },
  {
   "cell_type": "code",
   "execution_count": 30,
   "metadata": {},
   "outputs": [
    {
     "name": "stdout",
     "output_type": "stream",
     "text": [
      "(200, 2)\n",
      "LOC#0 -> El promedio de los 200 mejores pozos es de 115.307\n"
     ]
    }
   ],
   "source": [
    "state_0 = np.random.RandomState(54321)\n",
    "predictions_valid_0 = pd.Series(predictions_valid_0, index=target_valid_0.index)\n",
    "\n",
    "probs_subsample_0 = predictions_valid_0.sample(n=500, replace= True, random_state= state_0).sort_values(ascending=False).reset_index()[:200]\n",
    "pozos_0 = probs_subsample_0[:200]\n",
    "print(pozos_0.shape)\n",
    "mean_pozos_0 = pozos_0[0].mean()\n",
    "print('LOC#0 -> El promedio de los 200 mejores pozos es de {:.3f}'.format(mean_pozos_0))\n"
   ]
  },
  {
   "cell_type": "code",
   "execution_count": 31,
   "metadata": {},
   "outputs": [
    {
     "name": "stdout",
     "output_type": "stream",
     "text": [
      "LOC#1 -> El promedio de los 200 mejores pozos es de 115.024\n"
     ]
    }
   ],
   "source": [
    "predictions_valid_1 = pd.Series(predictions_valid_1, index=target_valid_1.index)\n",
    "state_1 = np.random.RandomState(54321)\n",
    "\n",
    "probs_subsample_1 = predictions_valid_1.sample(n=500, replace= True, random_state= state_1).sort_values(ascending=False).reset_index()\n",
    "pozos_1 = probs_subsample_1[:200]\n",
    "\n",
    "mean_pozos_1 = pozos_1[0].mean()\n",
    "print('LOC#1 -> El promedio de los 200 mejores pozos es de {:.3f}'.format(mean_pozos_1))"
   ]
  },
  {
   "cell_type": "code",
   "execution_count": 32,
   "metadata": {},
   "outputs": [
    {
     "name": "stdout",
     "output_type": "stream",
     "text": [
      "LOC#2 -> El promedio de los 200 mejores pozos es de 114.861\n"
     ]
    }
   ],
   "source": [
    "predictions_valid_2 = pd.Series(predictions_valid_2, index=target_valid_2.index)\n",
    "state_2 = np.random.RandomState(54321)\n",
    "\n",
    "probs_subsample_2 = predictions_valid_2.sample(n=500, replace= True, random_state= state_2).sort_values(ascending=False).reset_index()\n",
    "pozos_2 = probs_subsample_2[:200]\n",
    "\n",
    "mean_pozos_2 = pozos_2[0].mean()\n",
    "print('LOC#2 -> El promedio de los 200 mejores pozos es de {:.3f}'.format(mean_pozos_2))"
   ]
  },
  {
   "cell_type": "code",
   "execution_count": 33,
   "metadata": {},
   "outputs": [],
   "source": [
    "def calculos (pozos,loc):\n",
    "    num_pozos = 200\n",
    "    ganancia_x_barril = 4.5\n",
    "    gananciaxunidad = ganancia_x_barril * 1000\n",
    "    inversion = 100000000\n",
    "    mu_produccion = 500000\n",
    "\n",
    "    print('Promedio de las unidades de los 200 mejores pozos de la Loc. {} --> {:.3f} unidades'.format(loc,pozos.mean()))\n",
    "    ingresos_pozo = (pozos * gananciaxunidad).sum()\n",
    "    print('Obtendremos ${:.2f} (dolares) por {:.3f} unidades de los 200 pozos de la Loc {}'.format(ingresos_pozo,pozos.sum(),loc))\n",
    "    beneficio_bruto = (ingresos_pozo.sum()) - inversion\n",
    "    margen_beneficio_bruto = (beneficio_bruto/ingresos_pozo)*100\n",
    "    print('Nuestro Beneficio bruto es -> ${:.2f}'.format(beneficio_bruto))\n",
    "    print('Nuestro Margen de Beneficio bruto es -> {:.3f}%'.format(margen_beneficio_bruto))\n",
    "    print('\\n---\\n')\n"
   ]
  },
  {
   "cell_type": "code",
   "execution_count": 34,
   "metadata": {},
   "outputs": [
    {
     "name": "stdout",
     "output_type": "stream",
     "text": [
      "Promedio de las unidades de los 200 mejores pozos de la Loc. 0 --> 115.307 unidades\n",
      "Obtendremos $103775863.46 (dolares) por 23061.303 unidades de los 200 pozos de la Loc 0\n",
      "Nuestro Beneficio bruto es -> $3775863.46\n",
      "Nuestro Margen de Beneficio bruto es -> 3.638%\n",
      "\n",
      "---\n",
      "\n",
      "Promedio de las unidades de los 200 mejores pozos de la Loc. 1 --> 115.024 unidades\n",
      "Obtendremos $103521648.74 (dolares) por 23004.811 unidades de los 200 pozos de la Loc 1\n",
      "Nuestro Beneficio bruto es -> $3521648.74\n",
      "Nuestro Margen de Beneficio bruto es -> 3.402%\n",
      "\n",
      "---\n",
      "\n",
      "Promedio de las unidades de los 200 mejores pozos de la Loc. 2 --> 114.861 unidades\n",
      "Obtendremos $103374588.04 (dolares) por 22972.131 unidades de los 200 pozos de la Loc 2\n",
      "Nuestro Beneficio bruto es -> $3374588.04\n",
      "Nuestro Margen de Beneficio bruto es -> 3.264%\n",
      "\n",
      "---\n",
      "\n"
     ]
    }
   ],
   "source": [
    "calculos(pozos_0[0],0)\n",
    "calculos(pozos_1[0],1)\n",
    "calculos(pozos_2[0],2)"
   ]
  },
  {
   "cell_type": "markdown",
   "metadata": {},
   "source": [
    "**Conclusion de los 200 mejores pozos**\n",
    "\n",
    "Con esta muestra 200 pozos, la mejor opcion para sacar el mejor benficio bruto de las 3 localidades es la LOCALIDAD #0.\n",
    "\n",
    "+  1° En la Localidad #0 con un beneficio bruto de $3775863.46\n",
    "+  2° En la Localidad #1 con un beneficio bruto de $3521648.74\n",
    "+  3° En la Localidad #2 con un beneficio bruto de $3374588.04\n",
    "\n",
    "Tenemos una diferencia mínima entra la localidad 0 y la localidad 1, solo de $254,214.72 dolares. Sin embargo, esa cantidad extra nos entrega un margen de beneficio burto del 3.64 en la localicadad #0, poniendola como la mejor localidad en la que invertir. \n",
    "\n",
    "Hay que agregar mas muestras para seguir analizando y llegar a una conclusion más exacta."
   ]
  },
  {
   "cell_type": "markdown",
   "metadata": {},
   "source": [
    "<div class=\"alert alert-block alert-success\">\n",
    "<b>Comentario del revisor</b> <a class=\"tocSkip\"></a>\n",
    "\n",
    "Muy bien calculado el beneficio bruto de las 3 regiones! Estos cálculos te ayudarán en la elección de la mejor región teniendo en cuenta también los beneficios brutos según las predicciones, pero a pesar de que el beneficio bruto sea mayor en tu conjunto data2, es necesario comprobar los riesgos que implica.\n",
    "</div>\n",
    "\n"
   ]
  },
  {
   "cell_type": "markdown",
   "metadata": {},
   "source": [
    "**CON BOOSTRAPPING DE 1000 MUESTRAS.**\n",
    "\n",
    "Realizaremos los mismos calculos pero ahora 1000 veces para tener una muestra mas grande y verificar que localidad tienen un mejor beneficio. \n",
    "Así que de igualmanera calculeremos el intervalo de confianza del 95%, es decir 2.5% en el cuantil inferior y 97.5% en el cuantil superior. "
   ]
  },
  {
   "cell_type": "code",
   "execution_count": 35,
   "metadata": {},
   "outputs": [],
   "source": [
    "def calculos (pozos):\n",
    "    num_pozos = 200\n",
    "    ganancia_x_barril = 4.5\n",
    "    gananciaxunidad = ganancia_x_barril * 1000\n",
    "    inversion = 100000000\n",
    "\n",
    "    ingresos_pozo = (pozos * gananciaxunidad).sum()\n",
    "    beneficio_bruto = (ingresos_pozo.sum()) - inversion\n",
    "    margen_beneficio_bruto = (beneficio_bruto/ingresos_pozo)*100\n",
    "    pozos_mean = pozos.mean()\n",
    "    pozos_sum = pozos.sum()\n",
    "\n",
    "    return beneficio_bruto"
   ]
  },
  {
   "cell_type": "code",
   "execution_count": 36,
   "metadata": {},
   "outputs": [],
   "source": [
    "def muestras (predictions_valid):\n",
    "    state = np.random.RandomState(54321)\n",
    "    beneficio = []\n",
    "    perdida_de_beneficio = []\n",
    "\n",
    "    for i in range(1000):\n",
    "        pozos_subsample = predictions_valid.sample(n=500, replace= True, random_state= state).sort_values(ascending=False).reset_index()\n",
    "        pozos = pozos_subsample[:200]\n",
    "        beneficio.append(calculos(pozos[0]))\n",
    "        if beneficio[i] <0 :\n",
    "            perdida_de_beneficio.append(beneficio[i])\n",
    "            num_de_perdida = len(perdida_de_beneficio)\n",
    "        \n",
    "    beneficio = pd.Series(beneficio)\n",
    "    return beneficio, perdida_de_beneficio"
   ]
  },
  {
   "cell_type": "code",
   "execution_count": 37,
   "metadata": {},
   "outputs": [
    {
     "name": "stdout",
     "output_type": "stream",
     "text": [
      "LOCALIDAD #0 \n",
      "* Beneficio promedio de la locacion 0 despues de 1000 muestras -> $3159655.25\n",
      "+ Tenemos un intervalo de confianza del 95% de $814469.29 a $5429608.20 en el beneficio total de las 1000 muestras de los 200 mejores pozos.\n",
      "  Con un espectro de $4615138.91.\n",
      "- Tenemos una probabilidad de --> 0.006 de obtener una perdida despues de 1000 muestras, en porcentaje de --> 0.6%\n",
      "\n",
      "--\n",
      "LOCALIDAD #1 \n",
      "* Beneficio promedio de la locacion 1 despues de 1000 muestras -> $4086764.03\n",
      "+ Tenemos un intervalo de confianza del 95% de $152523.69 a $8343369.80 en el beneficio total de las 1000 muestras de los 200 mejores pozos.\n",
      "  Con un espectro de $8190846.11.\n",
      "- Tenemos una probabilidad de --> 0.022 de obtener una perdida despues de 1000 muestras, en porcentaje de --> 2.2%\n",
      "\n",
      "--\n",
      "LOCALIDAD #2 \n",
      "* Beneficio promedio de la locacion 2 despues de 1000 muestras -> $2708714.45\n",
      "+ Tenemos un intervalo de confianza del 95% de $735898.40 a $4689197.86 en el beneficio total de las 1000 muestras de los 200 mejores pozos.\n",
      "  Con un espectro de $3953299.45.\n",
      "- Tenemos una probabilidad de --> 0.002 de obtener una perdida despues de 1000 muestras, en porcentaje de --> 0.2%\n"
     ]
    },
    {
     "data": {
      "text/plain": [
       "<matplotlib.legend.Legend at 0x2ab0b61a7b0>"
      ]
     },
     "execution_count": 37,
     "metadata": {},
     "output_type": "execute_result"
    },
    {
     "data": {
      "image/png": "[encoded data removed]",
      "text/plain": [
       "<Figure size 640x480 with 1 Axes>"
      ]
     },
     "metadata": {},
     "output_type": "display_data"
    }
   ],
   "source": [
    "#Beneficio de la Localidad #0\n",
    "beneficio_0, perdida_0 = muestras(predictions_valid_0)\n",
    "print('LOCALIDAD #0 \\n* Beneficio promedio de la locacion 0 despues de 1000 muestras -> ${:.2f}'.format(beneficio_0.mean()))\n",
    "print('+ Tenemos un intervalo de confianza del 95% de ${:.2f} a ${:.2f} en el beneficio total de las 1000 muestras de los 200 mejores pozos.\\n  Con un espectro de ${:.2f}.'\n",
    "      .format(beneficio_0.quantile(0.025),beneficio_0.quantile(0.975),(beneficio_0.quantile(0.975) - beneficio_0.quantile(0.025))))\n",
    "print('- Tenemos una probabilidad de --> {} de obtener una perdida despues de 1000 muestras, en porcentaje de --> {}%'\n",
    "      .format(len(perdida_0)/1000,(len(perdida_0)/10)))\n",
    "\n",
    "#Beneficio de la Localidad #1\n",
    "beneficio_1, perdida_1 = muestras(predictions_valid_1)\n",
    "print('\\n--\\nLOCALIDAD #1 \\n* Beneficio promedio de la locacion 1 despues de 1000 muestras -> ${:.2f}'.format(beneficio_1.mean()))\n",
    "print('+ Tenemos un intervalo de confianza del 95% de ${:.2f} a ${:.2f} en el beneficio total de las 1000 muestras de los 200 mejores pozos.\\n  Con un espectro de ${:.2f}.'\n",
    "      .format(beneficio_1.quantile(0.025),beneficio_1.quantile(0.975),(beneficio_1.quantile(0.975) - beneficio_1.quantile(0.025))))\n",
    "print('- Tenemos una probabilidad de --> {} de obtener una perdida despues de 1000 muestras, en porcentaje de --> {}%'\n",
    "      .format(len(perdida_1)/1000,(len(perdida_1)/10)))\n",
    "\n",
    "#Beneficio de la Localidad #2\n",
    "beneficio_2, perdida_2 = muestras(predictions_valid_2)\n",
    "print('\\n--\\nLOCALIDAD #2 \\n* Beneficio promedio de la locacion 2 despues de 1000 muestras -> ${:.2f}'.format(beneficio_2.mean()))\n",
    "print('+ Tenemos un intervalo de confianza del 95% de ${:.2f} a ${:.2f} en el beneficio total de las 1000 muestras de los 200 mejores pozos.\\n  Con un espectro de ${:.2f}.'\n",
    "      .format(beneficio_2.quantile(0.025),beneficio_2.quantile(0.975),(beneficio_2.quantile(0.975) - beneficio_2.quantile(0.025))))\n",
    "print('- Tenemos una probabilidad de --> {} de obtener una perdida despues de 1000 muestras, en porcentaje de --> {}%'\n",
    "      .format(len(perdida_2)/1000,(len(perdida_2)/10)))\n",
    "\n",
    "#HISTOGRAMA.\n",
    "beneficio_1.hist(alpha=0.8)\n",
    "beneficio_2.hist(alpha=0.8)\n",
    "beneficio_0.hist(alpha=0.7)\n",
    "plt.legend(['beneficio_1','beneficio_2','beneficio_0'])"
   ]
  },
  {
   "cell_type": "markdown",
   "metadata": {},
   "source": [
    "CONCLUSIONES\n",
    "---"
   ]
  },
  {
   "cell_type": "markdown",
   "metadata": {},
   "source": [
    "-- LOCALIDAD #0 \n",
    "\n",
    "* Beneficio promedio de 1000 muestras -> $3,159,655.25\n",
    "* Intervalo de confianza del 95% del beneficio bruto medio de las 1000 muestras --> ($814,469.29 a $5,429,608.20) [$4,615,138.91].\n",
    "* Probabilidad de perdida --> 0.006 (0.6%)\n",
    "\n",
    "--\n",
    "LOCALIDAD #1 \n",
    "\n",
    "* Beneficio promedio de 1000 muestras -> $4,086,764.03\n",
    "* Intervalo de confianza del 95% del beneficio bruto medio de las 1000 muestras --> ($152,523.69 a $8,343,369.80) [$8,190,846.11].\n",
    "* Probabilidad de perdida --> 0.022 (2.2%)\n",
    "\n",
    "--\n",
    "LOCALIDAD #2 \n",
    "\n",
    "* Beneficio promedio de 1000 muestras -> $2,708,714.45\n",
    "* Intervalo de confianza del 95% del beneficio bruto medio de las 1000 muestras --> ($735,898.40 a $4,689,197.86) [$3,953,299.45].\n",
    "* Probabilidad de perdida --> 0.002 (0.2%)\n",
    "\n",
    "Podemos ver que la <u>LOCALIDAD#1</u> abarca un rango del intervalo de confiza del 95% de beneficio bruto mayor que las demas localidades.<br>Así mismo, el beneficio promedio de esta localidad es mayor que las otras dos. <br> Con una probabilidad del 95% podemos afirmar al menos obtener un beneficio bruto de $152,523.69 dolares.<br> Tambien hay que señalar que aunque tenemos un rango mas alto de perdida, 2.2%, comparado con las otras dos localidades su rango de cofianzes es mas amplio $8,190,846.11 dolares.\n",
    "\n",
    "Entonces podemos concluir que la LOCALIDAD #1 es la mejor para inveritir los 100mil millones de dolares, ya que obtendremos en promedio una ganancia de $4 millones aproximadamente y con una probabilidad de perdida baja por cada 200 pozos."
   ]
  },
  {
   "cell_type": "markdown",
   "metadata": {},
   "source": [
    "<div class=\"alert alert-block alert-info\">\n",
    "<b>DUDA DEL ESTUDIANTE</b> <a class=“tocSkip”></a>\n",
    "\n",
    "Para la parte de perdida que creo que es la unica que me falta... debo de checar que haya perdida? o generar un probalidad de tener perdida? no comprendo bien que debo de buscar o hacer con esta parte. \n",
    "Me ayudaria por favor?\n",
    "</div>"
   ]
  },
  {
   "cell_type": "markdown",
   "metadata": {},
   "source": [
    "<div class=\"alert alert-block alert-warning\">\n",
    "<b>Comentario del revisor</b> <a class=\"tocSkip\"></a>\n",
    "\n",
    "Hola, Jimena! Para el análisis de pérdida debes de caluclar la probabilidad de que los beneficios sean negativos\n",
    "</div>\n",
    "\n"
   ]
  }
 ],
 "metadata": {
  "kernelspec": {
   "display_name": "Python 3 (ipykernel)",
   "language": "python",
   "name": "python3"
  },
  "language_info": {
   "codemirror_mode": {
    "name": "ipython",
    "version": 3
   },
   "file_extension": ".py",
   "mimetype": "text/x-python",
   "name": "python",
   "nbconvert_exporter": "python",
   "pygments_lexer": "ipython3",
   "version": "3.12.5"
  },
  "toc": {
   "base_numbering": 1,
   "nav_menu": {},
   "number_sections": true,
   "sideBar": true,
   "skip_h1_title": true,
   "title_cell": "Table of Contents",
   "title_sidebar": "Contents",
   "toc_cell": false,
   "toc_position": {},
   "toc_section_display": true,
   "toc_window_display": false
  }
 },
 "nbformat": 4,
 "nbformat_minor": 2
}
